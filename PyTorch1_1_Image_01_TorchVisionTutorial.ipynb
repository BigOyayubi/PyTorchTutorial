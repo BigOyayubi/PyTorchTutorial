{
  "nbformat": 4,
  "nbformat_minor": 0,
  "metadata": {
    "colab": {
      "name": "PyTorch1_1_Image_01_TorchVisionTutorial.ipynb",
      "provenance": [],
      "include_colab_link": true
    },
    "kernelspec": {
      "name": "python3",
      "display_name": "Python 3"
    }
  },
  "cells": [
    {
      "cell_type": "markdown",
      "metadata": {
        "id": "view-in-github",
        "colab_type": "text"
      },
      "source": [
        "<a href=\"https://colab.research.google.com/github/BigOyayubi/PyTorchTutorial/blob/master/PyTorch1_1_Image_01_TorchVisionTutorial.ipynb\" target=\"_parent\"><img src=\"https://colab.research.google.com/assets/colab-badge.svg\" alt=\"Open In Colab\"/></a>"
      ]
    },
    {
      "cell_type": "markdown",
      "metadata": {
        "id": "huu2DNSBAI9h",
        "colab_type": "text"
      },
      "source": [
        "http://torch.classcat.com/2019/07/12/pytorch-1-1-tutorials-image-torchvision/\n",
        "\n",
        "物体検出デモです。\n",
        "\n",
        "少数の歩行者と歩行者位置矩形データセットを使って、事前訓練されたMask R-CNNモデルを再調整します。\n",
        "\n",
        "![代替テキスト](http://torch.classcat.com/wp-content/uploads/2019/07/pytorch11-tutorials-torchvision-tv_demo.jpg)\n"
      ]
    },
    {
      "cell_type": "code",
      "metadata": {
        "id": "L4YYjfqV_kYb",
        "colab_type": "code",
        "colab": {
          "base_uri": "https://localhost:8080/",
          "height": 204
        },
        "outputId": "e5733c83-6a21-462d-8c38-3ce76402c99c"
      },
      "source": [
        "#データセットのDL\n",
        "!wget -nc https://www.cis.upenn.edu/~jshi/ped_html/PennFudanPed.zip\n",
        "!unzip -f PennFudanPed.zip -d data\n",
        "!ls -la data/PennFudanPed/"
      ],
      "execution_count": 5,
      "outputs": [
        {
          "output_type": "stream",
          "text": [
            "File ‘PennFudanPed.zip’ already there; not retrieving.\n",
            "\n",
            "Archive:  PennFudanPed.zip\n",
            "total 52\n",
            "drwx------ 5 root root  4096 Oct 28  2007 .\n",
            "drwxr-xr-x 3 root root  4096 Sep 26 10:02 ..\n",
            "-rw------- 1 root root  1627 Sep 17  2007 added-object-list.txt\n",
            "drwx------ 2 root root 12288 Oct 28  2007 Annotation\n",
            "drwx------ 2 root root 12288 Oct 28  2007 PedMasks\n",
            "drwx------ 2 root root 12288 Oct 28  2007 PNGImages\n",
            "-rw------- 1 root root  2416 Oct 28  2007 readme.txt\n"
          ],
          "name": "stdout"
        }
      ]
    },
    {
      "cell_type": "code",
      "metadata": {
        "id": "2nfmBmkoBQqe",
        "colab_type": "code",
        "colab": {}
      },
      "source": [
        "#Mask R-CNN向けにいい感じにデータを返すDatasetを作成する\n",
        "import os\n",
        "import numpy as np\n",
        "import torch\n",
        "from PIL import Image\n",
        " \n",
        " \n",
        "class PennFudanDataset(object):\n",
        "    def __init__(self, root, transforms):\n",
        "        self.root = root\n",
        "        self.transforms = transforms\n",
        "        # load all image files, sorting them to\n",
        "        # ensure that they are aligned\n",
        "        self.imgs = list(sorted(os.listdir(os.path.join(root, \"PNGImages\"))))\n",
        "        self.masks = list(sorted(os.listdir(os.path.join(root, \"PedMasks\"))))\n",
        " \n",
        "    def __getitem__(self, idx):\n",
        "        # load images ad masks\n",
        "        img_path = os.path.join(self.root, \"PNGImages\", self.imgs[idx])\n",
        "        mask_path = os.path.join(self.root, \"PedMasks\", self.masks[idx])\n",
        "        img = Image.open(img_path).convert(\"RGB\")\n",
        "        # note that we haven't converted the mask to RGB,\n",
        "        # because each color corresponds to a different instance\n",
        "        # with 0 being background\n",
        "        mask = Image.open(mask_path)\n",
        "        # convert the PIL Image into a numpy array\n",
        "        mask = np.array(mask)\n",
        "        # instances are encoded as different colors\n",
        "        obj_ids = np.unique(mask)\n",
        "        # first id is the background, so remove it\n",
        "        obj_ids = obj_ids[1:]\n",
        " \n",
        "        # split the color-encoded mask into a set\n",
        "        # of binary masks\n",
        "        masks = mask == obj_ids[:, None, None]\n",
        " \n",
        "        # get bounding box coordinates for each mask\n",
        "        num_objs = len(obj_ids)\n",
        "        boxes = []\n",
        "        for i in range(num_objs):\n",
        "            pos = np.where(masks[i])\n",
        "            xmin = np.min(pos[1])\n",
        "            xmax = np.max(pos[1])\n",
        "            ymin = np.min(pos[0])\n",
        "            ymax = np.max(pos[0])\n",
        "            boxes.append([xmin, ymin, xmax, ymax])\n",
        " \n",
        "        # convert everything into a torch.Tensor\n",
        "        boxes = torch.as_tensor(boxes, dtype=torch.float32)\n",
        "        # there is only one class\n",
        "        labels = torch.ones((num_objs,), dtype=torch.int64)\n",
        "        masks = torch.as_tensor(masks, dtype=torch.uint8)\n",
        " \n",
        "        image_id = torch.tensor([idx])\n",
        "        area = (boxes[:, 3] - boxes[:, 1]) * (boxes[:, 2] - boxes[:, 0])\n",
        "        # suppose all instances are not crowd\n",
        "        iscrowd = torch.zeros((num_objs,), dtype=torch.int64)\n",
        " \n",
        "        target = {}\n",
        "        target[\"boxes\"] = boxes\n",
        "        target[\"labels\"] = labels\n",
        "        target[\"masks\"] = masks\n",
        "        target[\"image_id\"] = image_id\n",
        "        target[\"area\"] = area\n",
        "        target[\"iscrowd\"] = iscrowd\n",
        " \n",
        "        if self.transforms is not None:\n",
        "            img, target = self.transforms(img, target)\n",
        " \n",
        "        return img, target\n",
        " \n",
        "    def __len__(self):\n",
        "        return len(self.imgs)"
      ],
      "execution_count": 0,
      "outputs": []
    },
    {
      "cell_type": "code",
      "metadata": {
        "id": "GcFm2ds_DBtK",
        "colab_type": "code",
        "colab": {}
      },
      "source": [
        ""
      ],
      "execution_count": 0,
      "outputs": []
    }
  ]
}