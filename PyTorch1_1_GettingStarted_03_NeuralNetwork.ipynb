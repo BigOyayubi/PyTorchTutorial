{
  "nbformat": 4,
  "nbformat_minor": 0,
  "metadata": {
    "colab": {
      "name": "PyTorch1.1_GettingStarted_03_NeuralNetwork.ipynb",
      "provenance": [],
      "collapsed_sections": [],
      "include_colab_link": true
    },
    "kernelspec": {
      "name": "python3",
      "display_name": "Python 3"
    },
    "accelerator": "GPU"
  },
  "cells": [
    {
      "cell_type": "markdown",
      "metadata": {
        "id": "view-in-github",
        "colab_type": "text"
      },
      "source": [
        "<a href=\"https://colab.research.google.com/github/BigOyayubi/PyTorchTutorial/blob/master/PyTorch1_1_GettingStarted_03_NeuralNetwork.ipynb\" target=\"_parent\"><img src=\"https://colab.research.google.com/assets/colab-badge.svg\" alt=\"Open In Colab\"/></a>"
      ]
    },
    {
      "cell_type": "markdown",
      "metadata": {
        "id": "S6e4VwbtV5mx",
        "colab_type": "text"
      },
      "source": [
        "http://torch.classcat.com/2019/06/23/pytorch-1-1-getting-started-neural-networks/\n",
        "\n",
        "PyTorch1.1 > チュートリアル > ニューラルネットワークの動作確認メモです。\n",
        "\n",
        "以下CNNを実装します。MNIST向けでチュートリアルとは少し異なります。\n",
        "\n",
        "![代替テキスト](http://torch.classcat.com/wp-content/uploads/2018/12/pytorch10-gstarted-nn_mnist.png)\n",
        "\n",
        "ざっくりとした実装の流れは\n",
        "\n",
        "*   nn.Moduleを継承してニューラルネットワークモデル定義\n",
        "*   データセット準備\n",
        "*   学習\n",
        "*   テスト\n",
        "\n",
        "です。"
      ]
    },
    {
      "cell_type": "code",
      "metadata": {
        "id": "DVlg6NqlVtet",
        "colab_type": "code",
        "colab": {
          "base_uri": "https://localhost:8080/",
          "height": 170
        },
        "outputId": "819454a2-cb2d-4b42-f86a-85e6ffaf9f33"
      },
      "source": [
        "#ネットワーク定義\n",
        "\n",
        "import torch\n",
        "import torch.nn as nn\n",
        "import torch.nn.functional as F\n",
        "\n",
        "class Net(nn.Module):\n",
        " \n",
        "    # __init__でモデルのパラメータ未定な層のサイズを決める\n",
        "    def __init__(self):\n",
        "        super(Net, self).__init__()\n",
        "        #C1 グレイスケール画像1チャンネル入力、出力6チャンネル、カーネルサイズ5x5なフィルタ\n",
        "        # MNIST画像サイズ28x28 -> 26x26になる\n",
        "        self.conv1 = nn.Conv2d(1, 6, 3)\n",
        "        #S2 画像サイズを半分に 26x26 -> 13x13\n",
        "        #チュートリアルでは単純に画像サイズ半分にするため、pool2は定義しない\n",
        "        self.pool2 = nn.MaxPool2d(2)\n",
        "        #C3 6チャンネル入力、出力16チャンネル、カーネルサイズ3x3なフィルタ\n",
        "        # 画像サイズ13x13 -> 11x11になる\n",
        "        self.conv3 = nn.Conv2d(6, 16, 3)\n",
        "        #S4 画像サイズを半分に 11x11 -> 5x5になる\n",
        "        self.pool4 = nn.MaxPool2d(2)\n",
        "        #C5 結合層 入力16チャンネルx画像サイズ5x5、出力120チャンネル\n",
        "        # an affine operation: y = Wx + b\n",
        "        self.fc5 = nn.Linear(16 * 5 * 5, 120)  # 6*6 from image dimension\n",
        "        #F6 結合層 入力120チャンネル、出力84チャンネル\n",
        "        self.fc6 = nn.Linear(120, 84)\n",
        "        #output 入力84、出力10\n",
        "        self.out = nn.Linear(84, 10)\n",
        " \n",
        "    # forwardでデータ順伝搬を式指定して具体化\n",
        "    def forward(self, x):\n",
        "        x = self.conv1(x)\n",
        "        x = F.relu(x)\n",
        "        x = self.pool2(x)\n",
        "        x = self.conv3(x)\n",
        "        x = F.relu(x)\n",
        "        x = self.pool4(x)\n",
        "        x = x.view(-1, self.num_flat_features(x))\n",
        "        x = self.fc5(x)\n",
        "        x = F.relu(x)\n",
        "        x = self.fc6(x)\n",
        "        x = F.relu(x)\n",
        "        x = self.out(x)\n",
        "        return x\n",
        " \n",
        "    def num_flat_features(self, x):\n",
        "        size = x.size()[1:]  # all dimensions except the batch dimension\n",
        "        num_features = 1\n",
        "        for s in size:\n",
        "            num_features *= s\n",
        "        return num_features\n",
        " \n",
        " \n",
        "net = Net()\n",
        "print(net)"
      ],
      "execution_count": 3,
      "outputs": [
        {
          "output_type": "stream",
          "text": [
            "Net(\n",
            "  (conv1): Conv2d(1, 6, kernel_size=(3, 3), stride=(1, 1))\n",
            "  (pool2): MaxPool2d(kernel_size=2, stride=2, padding=0, dilation=1, ceil_mode=False)\n",
            "  (conv3): Conv2d(6, 16, kernel_size=(3, 3), stride=(1, 1))\n",
            "  (pool4): MaxPool2d(kernel_size=2, stride=2, padding=0, dilation=1, ceil_mode=False)\n",
            "  (fc5): Linear(in_features=400, out_features=120, bias=True)\n",
            "  (fc6): Linear(in_features=120, out_features=84, bias=True)\n",
            "  (out): Linear(in_features=84, out_features=10, bias=True)\n",
            ")\n"
          ],
          "name": "stdout"
        }
      ]
    },
    {
      "cell_type": "code",
      "metadata": {
        "id": "BZwJLK0iceEm",
        "colab_type": "code",
        "colab": {
          "base_uri": "https://localhost:8080/",
          "height": 51
        },
        "outputId": "ec5ef55c-933e-4c4a-cede-2979fd826c53"
      },
      "source": [
        "#モデルの学習可能なパラメータを確認する\n",
        "params = list(net.parameters())\n",
        "print(len(params))\n",
        "print(params[0].size()) #conv1"
      ],
      "execution_count": 4,
      "outputs": [
        {
          "output_type": "stream",
          "text": [
            "10\n",
            "torch.Size([6, 1, 3, 3])\n"
          ],
          "name": "stdout"
        }
      ]
    },
    {
      "cell_type": "code",
      "metadata": {
        "id": "jqctBWhgc7jQ",
        "colab_type": "code",
        "colab": {
          "base_uri": "https://localhost:8080/",
          "height": 68
        },
        "outputId": "7423a044-1833-4c9f-b58a-1218a5ef4eca"
      },
      "source": [
        "#ダミー値を流し込んで動作確認\n",
        "dummy_in = torch.randn(1, 1, 28, 28)\n",
        "dummy_out = net(dummy_in)\n",
        "#0〜9の合致具合が返る\n",
        "print(dummy_out.size())\n",
        "print(dummy_out)"
      ],
      "execution_count": 5,
      "outputs": [
        {
          "output_type": "stream",
          "text": [
            "torch.Size([1, 10])\n",
            "tensor([[ 0.0608,  0.0211,  0.1057,  0.0031, -0.0777,  0.1090, -0.0243,  0.0919,\n",
            "          0.0042,  0.1462]], grad_fn=<AddmmBackward>)\n"
          ],
          "name": "stdout"
        }
      ]
    },
    {
      "cell_type": "code",
      "metadata": {
        "id": "2Ad50zxad4Tl",
        "colab_type": "code",
        "colab": {}
      },
      "source": [
        "#学習用データを取得\n",
        "import torch\n",
        "import torchvision\n",
        "import torchvision.transforms as transforms\n",
        "from torch.utils.data import DataLoader\n",
        "from torchvision.datasets import MNIST\n",
        "\n",
        "#画像正規化\n",
        "transform = transforms.Compose(\n",
        "    [transforms.ToTensor(),\n",
        "     transforms.Normalize((0.5, ), (0.5,))])\n",
        "\n",
        "# データセットをダウンロード\n",
        "# 学習用\n",
        "train_set = MNIST(root='./data', train=True, download=True, transform=transform)\n",
        "train_loader = DataLoader(train_set, batch_size=4, shuffle=True, num_workers=2)\n",
        "\n",
        "#検証用\n",
        "test_set = MNIST(root='./data', train=False, download=True, transform=transform)\n",
        "test_loader = DataLoader(test_set, batch_size=4, shuffle=False, num_workers=2)\n"
      ],
      "execution_count": 0,
      "outputs": []
    },
    {
      "cell_type": "code",
      "metadata": {
        "id": "jYyGuv2-j-qs",
        "colab_type": "code",
        "colab": {
          "base_uri": "https://localhost:8080/",
          "height": 156
        },
        "outputId": "55d8baa2-5858-43a8-af01-13f2ab36840b"
      },
      "source": [
        "#取得したデータを表示して中身確認\n",
        "import matplotlib.pyplot as plt\n",
        "import numpy as np\n",
        " \n",
        "# functions to show an image\n",
        "def imshow(img):\n",
        "    img = img / 2 + 0.5     # unnormalize\n",
        "    npimg = img.numpy()\n",
        "    plt.imshow(np.transpose(npimg, (1, 2, 0)))\n",
        "    plt.show()\n",
        "\n",
        "dataiter = iter(train_loader)\n",
        "data = dataiter.next()\n",
        "images, labels = data\n",
        "imshow(torchvision.utils.make_grid(images))\n",
        "print(' '.join('%s' % labels[i].item() for i in range(4)))"
      ],
      "execution_count": 21,
      "outputs": [
        {
          "output_type": "display_data",
          "data": {
            "image/png": "[encoded data removed]",
            "text/plain": [
              "<Figure size 432x288 with 1 Axes>"
            ]
          },
          "metadata": {
            "tags": []
          }
        },
        {
          "output_type": "stream",
          "text": [
            "5 6 3 1\n"
          ],
          "name": "stdout"
        }
      ]
    },
    {
      "cell_type": "code",
      "metadata": {
        "id": "wdU1wfx4nsOl",
        "colab_type": "code",
        "colab": {
          "base_uri": "https://localhost:8080/",
          "height": 187
        },
        "outputId": "7cea52fa-3e03-4ac1-a2c5-2443e9304603"
      },
      "source": [
        "#損失関数を使って計算結果が正解からどれだけ離れているか推定します\n",
        "use_mseloss = True\n",
        "if use_mseloss:\n",
        "  # 平均二乗誤差\n",
        "  # 出力が0〜9の確率列なので、比較する正解はone-hot表現にしないといけない\n",
        "  criterion = nn.MSELoss()\n",
        "else:\n",
        "  #交差エントロピー\n",
        "  # 出力0〜9の確率列で、マッチ度合いが高い列があれば正解に近い＝損失が小さい\n",
        "  criterion = nn.CrossEntropyLoss()\n",
        "\n",
        "#ダミー入力で損失関数まで計算してみる\n",
        "dummy_out = net(dummy_in)\n",
        "#ダミー正解\n",
        "if use_mseloss:\n",
        "  #one-hot\n",
        "  dummy_labels = torch.randn(10).view(1,-1) #正規分布平均0,分散1でランダム10要素\n",
        "else:\n",
        "  #1入力なので対になるダミー正解数字\n",
        "  dummy_labels = torch.LongTensor(1).random_(0, 10)\n",
        "print(dummy_labels)\n",
        "\n",
        "dummy_loss = criterion(dummy_out, dummy_labels)\n",
        "print(dummy_loss)\n",
        "\n",
        "#loss.backward() を呼び出す時、グラフ全体は損失に関して微分され、requires_grad=True を持つグラフの総ての Tensor は勾配が累積されたそれらの .grad Tensor を持ちます。\n",
        "print(dummy_loss.grad_fn)\n",
        "print(dummy_loss.grad_fn.next_functions[0][0])\n",
        "print(dummy_loss.grad_fn.next_functions[0][0].next_functions[0][0])\n",
        "\n",
        "#誤差逆伝播はloss.backword()で行います。実施前に累積な既存勾配はクリアすることに注意\n",
        "net.zero_grad()\n",
        "print('conv1.bias.grad before backward')\n",
        "print(net.conv1.bias.grad)\n",
        "dummy_loss.backward()\n",
        "print('conv1.bias.grad after backward')\n",
        "print(net.conv1.bias.grad)\n",
        "\n",
        "#パラメータの更新はtorch.optimから任意のものを選ぶ\n",
        "#今回はSGD\n",
        "import torch.optim as optim\n",
        "\n",
        "optimizer = optim.SGD(net.parameters(), lr=0.01)\n",
        "optimizer.zero_grad()\n",
        "dummy_out = net(dummy_in)\n",
        "loss = criterion(dummy_out, dummy_labels)\n",
        "loss.backward()\n",
        "optimizer.step()\n"
      ],
      "execution_count": 41,
      "outputs": [
        {
          "output_type": "stream",
          "text": [
            "tensor([[ 0.1474,  1.7920,  0.0824,  0.8670, -1.6170, -2.0604,  1.0318,  0.8185,\n",
            "         -1.2666,  0.9650]])\n",
            "tensor(1.4895, grad_fn=<MseLossBackward>)\n",
            "<MseLossBackward object at 0x7f62ce448eb8>\n",
            "<AddmmBackward object at 0x7f62cff8e2e8>\n",
            "<AccumulateGrad object at 0x7f62ce448eb8>\n",
            "conv1.bias.grad before backward\n",
            "tensor([0., 0., 0., 0., 0., 0.])\n",
            "conv1.bias.grad after backward\n",
            "tensor([-0.0017, -0.0056,  0.0144, -0.0175,  0.0086, -0.0069])\n"
          ],
          "name": "stdout"
        }
      ]
    },
    {
      "cell_type": "code",
      "metadata": {
        "id": "PrMQeUBj91mm",
        "colab_type": "code",
        "colab": {
          "base_uri": "https://localhost:8080/",
          "height": 408
        },
        "outputId": "138c8ce7-a65f-4e8d-9093-536bb419abb2"
      },
      "source": [
        "#実際に学習、テストしてみる。重いのでGPUで\n",
        "#GPUで計算する場合、modelとtensorをto(device)で変換する\n",
        "device = torch.device(\"cuda:0\" if torch.cuda.is_available() else \"cpu\")\n",
        " \n",
        "# Assuming that we are on a CUDA machine, this should print a CUDA device:\n",
        "print(device)\n",
        "\n",
        "#モデル\n",
        "net = Net().to(device)\n",
        "#損失関数\n",
        "use_mseloss = True\n",
        "if use_mseloss:\n",
        "  criterion = nn.MSELoss()\n",
        "else:\n",
        "  criterion = nn.CrossEntropyLoss()\n",
        "#最適化関数\n",
        "optimizer = optim.SGD(net.parameters(), lr=0.01)\n",
        "\n",
        "def to_one_hot(labels):\n",
        "  return torch.eye(10)[labels]\n",
        "\n",
        "#学習\n",
        "for epoch in range(3):\n",
        "  running_loss = 0.0\n",
        "  for i, data in enumerate(train_loader, 0):\n",
        "    inputs, labels = data\n",
        "    inputs = inputs.to(device)\n",
        "    labels = labels.to(device)\n",
        "\n",
        "    #勾配をクリア\n",
        "    optimizer.zero_grad()\n",
        "\n",
        "    #forward\n",
        "    outputs = net(inputs)\n",
        "\n",
        "    #損失関数計算\n",
        "    if use_mseloss:\n",
        "      #one-hotにする\n",
        "      labels = to_one_hot(labels).to(device)\n",
        "    loss = criterion(outputs, labels)\n",
        "\n",
        "    #逆伝搬\n",
        "    loss.backward()\n",
        "\n",
        "    #パラメータ更新\n",
        "    optimizer.step()\n",
        "\n",
        "    running_loss += loss.item()\n",
        "    if i % 2000 == 1999:\n",
        "      print('[%d, %5d] loss: %.3f' % (epoch + 1, i + 1, running_loss / 2000))\n",
        "      running_loss = 0.0\n",
        "\n",
        "print('Finished Training')\n"
      ],
      "execution_count": 46,
      "outputs": [
        {
          "output_type": "stream",
          "text": [
            "cuda:0\n",
            "[1,  2000] loss: 0.088\n",
            "[1,  4000] loss: 0.074\n",
            "[1,  6000] loss: 0.055\n",
            "[1,  8000] loss: 0.044\n",
            "[1, 10000] loss: 0.037\n",
            "[1, 12000] loss: 0.031\n",
            "[1, 14000] loss: 0.027\n",
            "[2,  2000] loss: 0.022\n",
            "[2,  4000] loss: 0.020\n",
            "[2,  6000] loss: 0.019\n",
            "[2,  8000] loss: 0.018\n",
            "[2, 10000] loss: 0.017\n",
            "[2, 12000] loss: 0.016\n",
            "[2, 14000] loss: 0.015\n",
            "[3,  2000] loss: 0.014\n",
            "[3,  4000] loss: 0.013\n",
            "[3,  6000] loss: 0.013\n",
            "[3,  8000] loss: 0.012\n",
            "[3, 10000] loss: 0.012\n",
            "[3, 12000] loss: 0.012\n",
            "[3, 14000] loss: 0.011\n",
            "Finished Training\n"
          ],
          "name": "stdout"
        }
      ]
    },
    {
      "cell_type": "code",
      "metadata": {
        "id": "EAXK69bwCiZs",
        "colab_type": "code",
        "colab": {
          "base_uri": "https://localhost:8080/",
          "height": 1000
        },
        "outputId": "1649450e-56f7-4dfc-87b8-626d35c4ef78"
      },
      "source": [
        "#学習結果を確認する\n",
        "correct = 0\n",
        "total = 0\n",
        "wrong = 0\n",
        "with torch.no_grad(): #勾配追跡不要設定\n",
        "  for data in test_loader:\n",
        "    images, labels = data\n",
        "    images = images.to(device)\n",
        "    labels = labels.to(device)\n",
        "    outputs = net(images)\n",
        "    _, predicted = torch.max(outputs.data, 1) #値列->値な最大なインデックス列にして返す\n",
        "    total += labels.size(0) #評価総数\n",
        "    check = predicted == labels #インデックス列と正解列の比較結果(True or False)列\n",
        "    correct += check.sum().item() #正解総数\n",
        "\n",
        "    #誤判定した画像出してみる\n",
        "    for i in range(labels.size(0)):\n",
        "      if not check[i]:\n",
        "        wrong += 1\n",
        "        if wrong % 20 == 0:\n",
        "          print('label %d pred %d' % (labels[i].item(), predicted[i]))\n",
        "          imshow(torchvision.utils.make_grid(images[i].cpu()))\n",
        "\n",
        "print('Accuracy of the network on the 10000 test images: %d %%' % (100 * correct / total))"
      ],
      "execution_count": 56,
      "outputs": [
        {
          "output_type": "stream",
          "text": [
            "label 8 pred 3\n"
          ],
          "name": "stdout"
        },
        {
          "output_type": "display_data",
          "data": {
            "image/png": "[encoded data removed]",
            "text/plain": [
              "<Figure size 432x288 with 1 Axes>"
            ]
          },
          "metadata": {
            "tags": []
          }
        },
        {
          "output_type": "stream",
          "text": [
            "label 2 pred 3\n"
          ],
          "name": "stdout"
        },
        {
          "output_type": "display_data",
          "data": {
            "image/png": "[encoded data removed]",
            "text/plain": [
              "<Figure size 432x288 with 1 Axes>"
            ]
          },
          "metadata": {
            "tags": []
          }
        },
        {
          "output_type": "stream",
          "text": [
            "label 7 pred 2\n"
          ],
          "name": "stdout"
        },
        {
          "output_type": "display_data",
          "data": {
            "image/png": "[encoded data removed]",
            "text/plain": [
              "<Figure size 432x288 with 1 Axes>"
            ]
          },
          "metadata": {
            "tags": []
          }
        },
        {
          "output_type": "stream",
          "text": [
            "label 3 pred 7\n"
          ],
          "name": "stdout"
        },
        {
          "output_type": "display_data",
          "data": {
            "image/png": "[encoded data removed]",
            "text/plain": [
              "<Figure size 432x288 with 1 Axes>"
            ]
          },
          "metadata": {
            "tags": []
          }
        },
        {
          "output_type": "stream",
          "text": [
            "label 6 pred 0\n"
          ],
          "name": "stdout"
        },
        {
          "output_type": "display_data",
          "data": {
            "image/png": "[encoded data removed]",
            "text/plain": [
              "<Figure size 432x288 with 1 Axes>"
            ]
          },
          "metadata": {
            "tags": []
          }
        },
        {
          "output_type": "stream",
          "text": [
            "label 2 pred 8\n"
          ],
          "name": "stdout"
        },
        {
          "output_type": "display_data",
          "data": {
            "image/png": "[encoded data removed]",
            "text/plain": [
              "<Figure size 432x288 with 1 Axes>"
            ]
          },
          "metadata": {
            "tags": []
          }
        },
        {
          "output_type": "stream",
          "text": [
            "label 5 pred 9\n"
          ],
          "name": "stdout"
        },
        {
          "output_type": "display_data",
          "data": {
            "image/png": "[encoded data removed]",
            "text/plain": [
              "<Figure size 432x288 with 1 Axes>"
            ]
          },
          "metadata": {
            "tags": []
          }
        },
        {
          "output_type": "stream",
          "text": [
            "label 9 pred 3\n"
          ],
          "name": "stdout"
        },
        {
          "output_type": "display_data",
          "data": {
            "image/png": "[encoded data removed]",
            "text/plain": [
              "<Figure size 432x288 with 1 Axes>"
            ]
          },
          "metadata": {
            "tags": []
          }
        },
        {
          "output_type": "stream",
          "text": [
            "label 8 pred 9\n"
          ],
          "name": "stdout"
        },
        {
          "output_type": "display_data",
          "data": {
            "image/png": "[encoded data removed]",
            "text/plain": [
              "<Figure size 432x288 with 1 Axes>"
            ]
          },
          "metadata": {
            "tags": []
          }
        },
        {
          "output_type": "stream",
          "text": [
            "label 7 pred 2\n"
          ],
          "name": "stdout"
        },
        {
          "output_type": "display_data",
          "data": {
            "image/png": "[encoded data removed]",
            "text/plain": [
              "<Figure size 432x288 with 1 Axes>"
            ]
          },
          "metadata": {
            "tags": []
          }
        },
        {
          "output_type": "stream",
          "text": [
            "label 9 pred 4\n"
          ],
          "name": "stdout"
        },
        {
          "output_type": "display_data",
          "data": {
            "image/png": "[encoded data removed]",
            "text/plain": [
              "<Figure size 432x288 with 1 Axes>"
            ]
          },
          "metadata": {
            "tags": []
          }
        },
        {
          "output_type": "stream",
          "text": [
            "label 7 pred 0\n"
          ],
          "name": "stdout"
        },
        {
          "output_type": "display_data",
          "data": {
            "image/png": "[encoded data removed]",
            "text/plain": [
              "<Figure size 432x288 with 1 Axes>"
            ]
          },
          "metadata": {
            "tags": []
          }
        },
        {
          "output_type": "stream",
          "text": [
            "label 9 pred 7\n"
          ],
          "name": "stdout"
        },
        {
          "output_type": "display_data",
          "data": {
            "image/png": "[encoded data removed]",
            "text/plain": [
              "<Figure size 432x288 with 1 Axes>"
            ]
          },
          "metadata": {
            "tags": []
          }
        },
        {
          "output_type": "stream",
          "text": [
            "label 4 pred 6\n"
          ],
          "name": "stdout"
        },
        {
          "output_type": "display_data",
          "data": {
            "image/png": "[encoded data removed]",
            "text/plain": [
              "<Figure size 432x288 with 1 Axes>"
            ]
          },
          "metadata": {
            "tags": []
          }
        },
        {
          "output_type": "stream",
          "text": [
            "label 9 pred 7\n"
          ],
          "name": "stdout"
        },
        {
          "output_type": "display_data",
          "data": {
            "image/png": "[encoded data removed]",
            "text/plain": [
              "<Figure size 432x288 with 1 Axes>"
            ]
          },
          "metadata": {
            "tags": []
          }
        },
        {
          "output_type": "stream",
          "text": [
            "label 8 pred 5\n"
          ],
          "name": "stdout"
        },
        {
          "output_type": "display_data",
          "data": {
            "image/png": "[encoded data removed]",
            "text/plain": [
              "<Figure size 432x288 with 1 Axes>"
            ]
          },
          "metadata": {
            "tags": []
          }
        },
        {
          "output_type": "stream",
          "text": [
            "Accuracy of the network on the 10000 test images: 96 %\n"
          ],
          "name": "stdout"
        }
      ]
    }
  ]
}